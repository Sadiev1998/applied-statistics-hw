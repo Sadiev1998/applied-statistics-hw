{
 "cells": [
  {
   "cell_type": "markdown",
   "metadata": {},
   "source": [
    "# Homework 4"
   ]
  },
  {
   "cell_type": "code",
   "execution_count": 1,
   "metadata": {},
   "outputs": [],
   "source": [
    "import numpy as np\n",
    "import matplotlib.pylab as plt\n",
    "%matplotlib inline\n",
    "import scipy.stats as st\n",
    "import seaborn as sns\n",
    "import pandas as pd"
   ]
  },
  {
   "cell_type": "code",
   "execution_count": 2,
   "metadata": {},
   "outputs": [],
   "source": [
    "# пакет для проверки множественных гипотез\n",
    "from statsmodels.stats.multitest import multipletests"
   ]
  },
  {
   "cell_type": "code",
   "execution_count": 3,
   "metadata": {},
   "outputs": [],
   "source": [
    "text_size = 15\n",
    "plt.rcParams['lines.linewidth'] = 3\n",
    "plt.rcParams['lines.markersize'] = 6\n",
    "plt.rcParams['xtick.labelsize'] = text_size\n",
    "plt.rcParams['ytick.labelsize'] = text_size\n",
    "plt.rcParams['legend.fontsize'] = text_size\n",
    "plt.rcParams['axes.titlesize'] = text_size\n",
    "plt.rcParams['axes.labelsize'] = text_size\n",
    "plt.rcParams['figure.figsize'] = (12.0, 8.0)\n",
    "plt.rcParams['font.size'] = text_size"
   ]
  },
  {
   "cell_type": "code",
   "execution_count": 4,
   "metadata": {},
   "outputs": [
    {
     "data": {
      "text/html": [
       "<div>\n",
       "<style scoped>\n",
       "    .dataframe tbody tr th:only-of-type {\n",
       "        vertical-align: middle;\n",
       "    }\n",
       "\n",
       "    .dataframe tbody tr th {\n",
       "        vertical-align: top;\n",
       "    }\n",
       "\n",
       "    .dataframe thead th {\n",
       "        text-align: right;\n",
       "    }\n",
       "</style>\n",
       "<table border=\"1\" class=\"dataframe\">\n",
       "  <thead>\n",
       "    <tr style=\"text-align: right;\">\n",
       "      <th></th>\n",
       "      <th>-1.801718228019206225e-01</th>\n",
       "      <th>-1.474314285732155061e-01</th>\n",
       "      <th>-1.691026466860834077e-01</th>\n",
       "      <th>-1.508084066565316794e+00</th>\n",
       "      <th>6.423804938499405592e-02</th>\n",
       "    </tr>\n",
       "  </thead>\n",
       "  <tbody>\n",
       "    <tr>\n",
       "      <th>0</th>\n",
       "      <td>1.836084</td>\n",
       "      <td>-1.025085</td>\n",
       "      <td>1.222008</td>\n",
       "      <td>0.157703</td>\n",
       "      <td>0.196845</td>\n",
       "    </tr>\n",
       "    <tr>\n",
       "      <th>1</th>\n",
       "      <td>-1.077344</td>\n",
       "      <td>-0.847725</td>\n",
       "      <td>-1.268648</td>\n",
       "      <td>1.563516</td>\n",
       "      <td>-0.464249</td>\n",
       "    </tr>\n",
       "    <tr>\n",
       "      <th>2</th>\n",
       "      <td>-0.001584</td>\n",
       "      <td>-1.396146</td>\n",
       "      <td>-0.955532</td>\n",
       "      <td>-0.120022</td>\n",
       "      <td>0.761911</td>\n",
       "    </tr>\n",
       "    <tr>\n",
       "      <th>3</th>\n",
       "      <td>-0.700784</td>\n",
       "      <td>-0.075597</td>\n",
       "      <td>-0.478929</td>\n",
       "      <td>-0.607808</td>\n",
       "      <td>0.879374</td>\n",
       "    </tr>\n",
       "    <tr>\n",
       "      <th>4</th>\n",
       "      <td>-0.660996</td>\n",
       "      <td>0.289864</td>\n",
       "      <td>-0.426791</td>\n",
       "      <td>0.678446</td>\n",
       "      <td>0.309237</td>\n",
       "    </tr>\n",
       "  </tbody>\n",
       "</table>\n",
       "</div>"
      ],
      "text/plain": [
       "   -1.801718228019206225e-01  -1.474314285732155061e-01  \\\n",
       "0                   1.836084                  -1.025085   \n",
       "1                  -1.077344                  -0.847725   \n",
       "2                  -0.001584                  -1.396146   \n",
       "3                  -0.700784                  -0.075597   \n",
       "4                  -0.660996                   0.289864   \n",
       "\n",
       "   -1.691026466860834077e-01  -1.508084066565316794e+00  \\\n",
       "0                   1.222008                   0.157703   \n",
       "1                  -1.268648                   1.563516   \n",
       "2                  -0.955532                  -0.120022   \n",
       "3                  -0.478929                  -0.607808   \n",
       "4                  -0.426791                   0.678446   \n",
       "\n",
       "   6.423804938499405592e-02  \n",
       "0                  0.196845  \n",
       "1                 -0.464249  \n",
       "2                  0.761911  \n",
       "3                  0.879374  \n",
       "4                  0.309237  "
      ]
     },
     "execution_count": 4,
     "metadata": {},
     "output_type": "execute_result"
    }
   ],
   "source": [
    "Data = pd.read_csv('sadiev.aa.csv')\n",
    "Data.head(5)"
   ]
  },
  {
   "cell_type": "code",
   "execution_count": 5,
   "metadata": {},
   "outputs": [
    {
     "data": {
      "text/html": [
       "<div>\n",
       "<style scoped>\n",
       "    .dataframe tbody tr th:only-of-type {\n",
       "        vertical-align: middle;\n",
       "    }\n",
       "\n",
       "    .dataframe tbody tr th {\n",
       "        vertical-align: top;\n",
       "    }\n",
       "\n",
       "    .dataframe thead th {\n",
       "        text-align: right;\n",
       "    }\n",
       "</style>\n",
       "<table border=\"1\" class=\"dataframe\">\n",
       "  <thead>\n",
       "    <tr style=\"text-align: right;\">\n",
       "      <th></th>\n",
       "      <th>0</th>\n",
       "      <th>1</th>\n",
       "      <th>2</th>\n",
       "      <th>3</th>\n",
       "      <th>4</th>\n",
       "    </tr>\n",
       "  </thead>\n",
       "  <tbody>\n",
       "    <tr>\n",
       "      <th>28</th>\n",
       "      <td>1.801688</td>\n",
       "      <td>-0.263294</td>\n",
       "      <td>-0.776881</td>\n",
       "      <td>-0.332281</td>\n",
       "      <td>1.010510</td>\n",
       "    </tr>\n",
       "    <tr>\n",
       "      <th>24</th>\n",
       "      <td>-0.416243</td>\n",
       "      <td>-1.097746</td>\n",
       "      <td>0.211753</td>\n",
       "      <td>2.763071</td>\n",
       "      <td>0.222040</td>\n",
       "    </tr>\n",
       "    <tr>\n",
       "      <th>5</th>\n",
       "      <td>-0.660996</td>\n",
       "      <td>0.289864</td>\n",
       "      <td>-0.426791</td>\n",
       "      <td>0.678446</td>\n",
       "      <td>0.309237</td>\n",
       "    </tr>\n",
       "    <tr>\n",
       "      <th>22</th>\n",
       "      <td>-1.205363</td>\n",
       "      <td>0.374196</td>\n",
       "      <td>0.592801</td>\n",
       "      <td>-1.309697</td>\n",
       "      <td>1.676608</td>\n",
       "    </tr>\n",
       "    <tr>\n",
       "      <th>16</th>\n",
       "      <td>1.910555</td>\n",
       "      <td>-0.323425</td>\n",
       "      <td>-0.223772</td>\n",
       "      <td>0.563887</td>\n",
       "      <td>-0.504189</td>\n",
       "    </tr>\n",
       "  </tbody>\n",
       "</table>\n",
       "</div>"
      ],
      "text/plain": [
       "           0         1         2         3         4\n",
       "28  1.801688 -0.263294 -0.776881 -0.332281  1.010510\n",
       "24 -0.416243 -1.097746  0.211753  2.763071  0.222040\n",
       "5  -0.660996  0.289864 -0.426791  0.678446  0.309237\n",
       "22 -1.205363  0.374196  0.592801 -1.309697  1.676608\n",
       "16  1.910555 -0.323425 -0.223772  0.563887 -0.504189"
      ]
     },
     "execution_count": 5,
     "metadata": {},
     "output_type": "execute_result"
    }
   ],
   "source": [
    "X = Data.values\n",
    "y = np.array(Data.keys().values)\n",
    "Z = np.zeros((X.shape[1], X.shape[0] + 1))\n",
    "for i in range(len(y)):\n",
    "    y[i] = float(y[i])\n",
    "    Z[i] = np.append(y[i], X.T[i])\n",
    "data = pd.DataFrame(Z.T)\n",
    "data.sample(5)"
   ]
  },
  {
   "cell_type": "code",
   "execution_count": 6,
   "metadata": {},
   "outputs": [],
   "source": [
    "X = data.values\n",
    "X = X.T"
   ]
  },
  {
   "cell_type": "markdown",
   "metadata": {},
   "source": [
    "## T-критерий Стьюдента (без поправок)"
   ]
  },
  {
   "cell_type": "code",
   "execution_count": 7,
   "metadata": {},
   "outputs": [],
   "source": [
    "m = X.shape[0]\n",
    "p_values = []\n",
    "for i in range(m):\n",
    "    for j in range(m):\n",
    "        if i < j:\n",
    "            p_values.append(st.ttest_ind(X[i], X[j])[1])\n",
    "    "
   ]
  },
  {
   "cell_type": "code",
   "execution_count": 8,
   "metadata": {},
   "outputs": [
    {
     "name": "stdout",
     "output_type": "stream",
     "text": [
      "Количество проведений теста Стьюдента: 10\n"
     ]
    }
   ],
   "source": [
    "N = m*(m - 1)//2\n",
    "print('Количество проведений теста Стьюдента: {}'.format(N))"
   ]
  },
  {
   "cell_type": "code",
   "execution_count": 9,
   "metadata": {},
   "outputs": [
    {
     "name": "stdout",
     "output_type": "stream",
     "text": [
      "accepted 5\n",
      "rejected 5\n"
     ]
    }
   ],
   "source": [
    "f = lambda x: x> 0.05\n",
    "accepted = len(list(filter(f, p_values)))\n",
    "print('accepted {}'.format(accepted))\n",
    "print('rejected {}'.format(len(p_values) - accepted))"
   ]
  },
  {
   "cell_type": "code",
   "execution_count": 10,
   "metadata": {},
   "outputs": [
    {
     "name": "stdout",
     "output_type": "stream",
     "text": [
      "accepted 5\n",
      "rejected 5\n"
     ]
    }
   ],
   "source": [
    "m = X.shape[0]\n",
    "p_values = []\n",
    "for i in range(m):\n",
    "    for j in range(m):\n",
    "        if i < j:\n",
    "            p_values.append(st.ttest_ind(X[i], X[j], equal_var = False)[1])\n",
    "\n",
    "f = lambda x: x> 0.05\n",
    "accepted = len(list(filter(f, p_values)))\n",
    "print('accepted {}'.format(accepted))\n",
    "print('rejected {}'.format(len(p_values) - accepted))"
   ]
  },
  {
   "cell_type": "code",
   "execution_count": 11,
   "metadata": {},
   "outputs": [],
   "source": [
    "noncor = sorted(p_values)"
   ]
  },
  {
   "cell_type": "markdown",
   "metadata": {},
   "source": [
    "## T-критерий Стьюдента (c поправками)"
   ]
  },
  {
   "cell_type": "markdown",
   "metadata": {},
   "source": [
    "### 1. Бонферрони"
   ]
  },
  {
   "cell_type": "code",
   "execution_count": 12,
   "metadata": {},
   "outputs": [
    {
     "name": "stdout",
     "output_type": "stream",
     "text": [
      "accepted 8\n",
      "rejected 2\n"
     ]
    }
   ],
   "source": [
    "m = X.shape[0]\n",
    "p_values = []\n",
    "for i in range(m):\n",
    "    for j in range(m):\n",
    "        if i < j:\n",
    "            p_values.append(st.ttest_ind(X[i], X[j], equal_var = False)[1])\n",
    "\n",
    "rejections = multipletests(p_values, method='bonferroni')[0]\n",
    "f = lambda x: x == False\n",
    "accepted = len(list(filter(f, rejections)))\n",
    "print('accepted {}'.format(accepted))\n",
    "print('rejected {}'.format(len(p_values) - accepted))"
   ]
  },
  {
   "cell_type": "code",
   "execution_count": 13,
   "metadata": {},
   "outputs": [
    {
     "name": "stdout",
     "output_type": "stream",
     "text": [
      "Значение уровня значимости при введении поправки Бонферрони: 0.005\n"
     ]
    }
   ],
   "source": [
    "alpha = multipletests(p_values, method='bonferroni', alpha = 0.05)[3]\n",
    "print('Значение уровня значимости при введении поправки Бонферрони: {}'.format(alpha))"
   ]
  },
  {
   "cell_type": "code",
   "execution_count": 14,
   "metadata": {},
   "outputs": [],
   "source": [
    "bon = sorted(multipletests(p_values, method='bonferroni')[1])"
   ]
  },
  {
   "cell_type": "markdown",
   "metadata": {},
   "source": [
    "### 2. Холма"
   ]
  },
  {
   "cell_type": "code",
   "execution_count": 15,
   "metadata": {},
   "outputs": [
    {
     "name": "stdout",
     "output_type": "stream",
     "text": [
      "accepted 8\n",
      "rejected 2\n"
     ]
    }
   ],
   "source": [
    "m = X.shape[0]\n",
    "p_values = []\n",
    "for i in range(m):\n",
    "    for j in range(m):\n",
    "        if i < j:\n",
    "            p_values.append(st.ttest_ind(X[i], X[j], equal_var = False)[1])\n",
    "\n",
    "rejections = multipletests(p_values, method='holm')[0]\n",
    "\n",
    "f = lambda x: x == False\n",
    "accepted = len(list(filter(f, rejections)))\n",
    "print('accepted {}'.format(accepted))\n",
    "print('rejected {}'.format(len(p_values) - accepted))"
   ]
  },
  {
   "cell_type": "code",
   "execution_count": 16,
   "metadata": {},
   "outputs": [],
   "source": [
    "holm = sorted(multipletests(p_values, method='holm')[1])"
   ]
  },
  {
   "cell_type": "code",
   "execution_count": 17,
   "metadata": {},
   "outputs": [
    {
     "data": {
      "image/png": "[encoded data removed]",
      "text/plain": [
       "<Figure size 864x576 with 1 Axes>"
      ]
     },
     "metadata": {
      "needs_background": "light"
     },
     "output_type": "display_data"
    }
   ],
   "source": [
    "plt.scatter(range(1, N+1),noncor , s=N, color = 'brown', label = 'Non corrections')\n",
    "plt.scatter(range(1, N+1), holm, s=N, color = 'blue', label = 'Holm',marker = \"^\", linewidths =7 )\n",
    "plt.scatter(range(1, N+1), bon, s=N, color = 'orange', label = 'Bonferroni', marker = 'D', linewidths =4)\n",
    "plt.axhline(y = 0.05, color = 'red', linewidth = 1)\n",
    "plt.legend()\n",
    "plt.show()"
   ]
  },
  {
   "cell_type": "markdown",
   "metadata": {},
   "source": [
    "## Оценка количества верных гипотиз $m_0$ по методу Шведера-Спьётволла"
   ]
  },
  {
   "cell_type": "code",
   "execution_count": 18,
   "metadata": {},
   "outputs": [
    {
     "data": {
      "text/plain": [
       "4.0"
      ]
     },
     "execution_count": 18,
     "metadata": {},
     "output_type": "execute_result"
    }
   ],
   "source": [
    "m = X.shape[0]\n",
    "p_values = []\n",
    "for i in range(m):\n",
    "    for j in range(m):\n",
    "        if i < j:\n",
    "            p_values.append(st.ttest_ind(X[i], X[j])[1])\n",
    "    \n",
    "\n",
    "l = 0.5 \n",
    "m0 = 1/(1 - l)*(1 + (np.array(p_values) > 0.5).sum())\n",
    "m0"
   ]
  },
  {
   "cell_type": "code",
   "execution_count": null,
   "metadata": {},
   "outputs": [],
   "source": []
  }
 ],
 "metadata": {
  "kernelspec": {
   "display_name": "Python 3",
   "language": "python",
   "name": "python3"
  },
  "language_info": {
   "codemirror_mode": {
    "name": "ipython",
    "version": 3
   },
   "file_extension": ".py",
   "mimetype": "text/x-python",
   "name": "python",
   "nbconvert_exporter": "python",
   "pygments_lexer": "ipython3",
   "version": "3.7.3"
  }
 },
 "nbformat": 4,
 "nbformat_minor": 2
}
