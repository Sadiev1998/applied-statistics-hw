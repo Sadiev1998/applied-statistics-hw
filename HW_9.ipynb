{
 "cells": [
  {
   "cell_type": "code",
   "execution_count": 2,
   "metadata": {},
   "outputs": [],
   "source": [
    "import numpy as np\n",
    "import pandas as pd\n",
    "import matplotlib.pylab as plt\n",
    "%matplotlib inline\n",
    "import scipy.stats as st\n",
    "import seaborn as sns\n",
    "\n",
    "import statsmodels.api as sm\n",
    "from sklearn.metrics import  auc,  accuracy_score"
   ]
  },
  {
   "cell_type": "code",
   "execution_count": 3,
   "metadata": {},
   "outputs": [
    {
     "data": {
      "text/html": [
       "<div>\n",
       "<style scoped>\n",
       "    .dataframe tbody tr th:only-of-type {\n",
       "        vertical-align: middle;\n",
       "    }\n",
       "\n",
       "    .dataframe tbody tr th {\n",
       "        vertical-align: top;\n",
       "    }\n",
       "\n",
       "    .dataframe thead th {\n",
       "        text-align: right;\n",
       "    }\n",
       "</style>\n",
       "<table border=\"1\" class=\"dataframe\">\n",
       "  <thead>\n",
       "    <tr style=\"text-align: right;\">\n",
       "      <th></th>\n",
       "      <th>0</th>\n",
       "      <th>1</th>\n",
       "      <th>2</th>\n",
       "      <th>3</th>\n",
       "      <th>4</th>\n",
       "      <th>5</th>\n",
       "      <th>6</th>\n",
       "      <th>7</th>\n",
       "      <th>8</th>\n",
       "      <th>9</th>\n",
       "      <th>10</th>\n",
       "    </tr>\n",
       "  </thead>\n",
       "  <tbody>\n",
       "    <tr>\n",
       "      <th>0</th>\n",
       "      <td>0.0</td>\n",
       "      <td>-0.300830</td>\n",
       "      <td>0.441077</td>\n",
       "      <td>-0.134191</td>\n",
       "      <td>-2.264717</td>\n",
       "      <td>-0.329407</td>\n",
       "      <td>1.715426</td>\n",
       "      <td>-0.436577</td>\n",
       "      <td>1.256920</td>\n",
       "      <td>-0.598929</td>\n",
       "      <td>-0.196800</td>\n",
       "    </tr>\n",
       "    <tr>\n",
       "      <th>1</th>\n",
       "      <td>1.0</td>\n",
       "      <td>-1.198002</td>\n",
       "      <td>-0.259217</td>\n",
       "      <td>-1.233736</td>\n",
       "      <td>0.806884</td>\n",
       "      <td>-0.857894</td>\n",
       "      <td>-0.122242</td>\n",
       "      <td>-0.807638</td>\n",
       "      <td>-0.920620</td>\n",
       "      <td>-0.876655</td>\n",
       "      <td>0.368266</td>\n",
       "    </tr>\n",
       "    <tr>\n",
       "      <th>2</th>\n",
       "      <td>1.0</td>\n",
       "      <td>-0.821442</td>\n",
       "      <td>0.512911</td>\n",
       "      <td>-0.444017</td>\n",
       "      <td>-1.364441</td>\n",
       "      <td>0.485729</td>\n",
       "      <td>-0.781654</td>\n",
       "      <td>0.878372</td>\n",
       "      <td>-0.391879</td>\n",
       "      <td>-0.078187</td>\n",
       "      <td>-0.084408</td>\n",
       "    </tr>\n",
       "    <tr>\n",
       "      <th>3</th>\n",
       "      <td>0.0</td>\n",
       "      <td>-0.632765</td>\n",
       "      <td>-0.756107</td>\n",
       "      <td>-1.121652</td>\n",
       "      <td>0.117884</td>\n",
       "      <td>-0.274633</td>\n",
       "      <td>0.679934</td>\n",
       "      <td>0.099155</td>\n",
       "      <td>0.460586</td>\n",
       "      <td>1.243536</td>\n",
       "      <td>-0.774501</td>\n",
       "    </tr>\n",
       "    <tr>\n",
       "      <th>4</th>\n",
       "      <td>0.0</td>\n",
       "      <td>-0.849300</td>\n",
       "      <td>0.505607</td>\n",
       "      <td>0.966130</td>\n",
       "      <td>-0.535571</td>\n",
       "      <td>-0.519688</td>\n",
       "      <td>2.083742</td>\n",
       "      <td>1.036304</td>\n",
       "      <td>-2.525288</td>\n",
       "      <td>-1.240893</td>\n",
       "      <td>0.512203</td>\n",
       "    </tr>\n",
       "  </tbody>\n",
       "</table>\n",
       "</div>"
      ],
      "text/plain": [
       "    0         1         2         3         4         5         6         7   \\\n",
       "0  0.0 -0.300830  0.441077 -0.134191 -2.264717 -0.329407  1.715426 -0.436577   \n",
       "1  1.0 -1.198002 -0.259217 -1.233736  0.806884 -0.857894 -0.122242 -0.807638   \n",
       "2  1.0 -0.821442  0.512911 -0.444017 -1.364441  0.485729 -0.781654  0.878372   \n",
       "3  0.0 -0.632765 -0.756107 -1.121652  0.117884 -0.274633  0.679934  0.099155   \n",
       "4  0.0 -0.849300  0.505607  0.966130 -0.535571 -0.519688  2.083742  1.036304   \n",
       "\n",
       "         8         9         10  \n",
       "0  1.256920 -0.598929 -0.196800  \n",
       "1 -0.920620 -0.876655  0.368266  \n",
       "2 -0.391879 -0.078187 -0.084408  \n",
       "3  0.460586  1.243536 -0.774501  \n",
       "4 -2.525288 -1.240893  0.512203  "
      ]
     },
     "execution_count": 3,
     "metadata": {},
     "output_type": "execute_result"
    }
   ],
   "source": [
    "data = pd.read_csv('sadiev.aa.csv', header = None)\n",
    "data.head(5)"
   ]
  },
  {
   "cell_type": "code",
   "execution_count": 4,
   "metadata": {},
   "outputs": [
    {
     "data": {
      "text/plain": [
       "((11, 1000), (1000,))"
      ]
     },
     "execution_count": 4,
     "metadata": {},
     "output_type": "execute_result"
    }
   ],
   "source": [
    "X = data.values.T[1:]\n",
    "y = data.values.T[0]\n",
    "a = np.ones((X.shape[1],1))\n",
    "X = np.concatenate((a.T , X), axis = 0)\n",
    "X.shape, y.shape"
   ]
  },
  {
   "cell_type": "markdown",
   "metadata": {},
   "source": [
    "### Вопрос 1\n",
    "Постройте модель логистической регрессии Y от X и свободного коэффициента. Каково отношение шансов Y=1 к событию f(X) = 1, где f(X) - отклик?"
   ]
  },
  {
   "cell_type": "code",
   "execution_count": 5,
   "metadata": {},
   "outputs": [
    {
     "name": "stdout",
     "output_type": "stream",
     "text": [
      "Optimization terminated successfully.\n",
      "         Current function value: 0.686782\n",
      "         Iterations 4\n"
     ]
    },
    {
     "data": {
      "text/html": [
       "<table class=\"simpletable\">\n",
       "<caption>Logit Regression Results</caption>\n",
       "<tr>\n",
       "  <th>Dep. Variable:</th>           <td>y</td>        <th>  No. Observations:  </th>  <td>  1000</td> \n",
       "</tr>\n",
       "<tr>\n",
       "  <th>Model:</th>                 <td>Logit</td>      <th>  Df Residuals:      </th>  <td>   989</td> \n",
       "</tr>\n",
       "<tr>\n",
       "  <th>Method:</th>                 <td>MLE</td>       <th>  Df Model:          </th>  <td>    10</td> \n",
       "</tr>\n",
       "<tr>\n",
       "  <th>Date:</th>            <td>Tue, 21 Apr 2020</td> <th>  Pseudo R-squ.:     </th> <td>0.008539</td>\n",
       "</tr>\n",
       "<tr>\n",
       "  <th>Time:</th>                <td>15:24:12</td>     <th>  Log-Likelihood:    </th> <td> -686.78</td>\n",
       "</tr>\n",
       "<tr>\n",
       "  <th>converged:</th>             <td>True</td>       <th>  LL-Null:           </th> <td> -692.70</td>\n",
       "</tr>\n",
       "<tr>\n",
       "  <th>Covariance Type:</th>     <td>nonrobust</td>    <th>  LLR p-value:       </th>  <td>0.2966</td> \n",
       "</tr>\n",
       "</table>\n",
       "<table class=\"simpletable\">\n",
       "<tr>\n",
       "    <td></td>       <th>coef</th>     <th>std err</th>      <th>z</th>      <th>P>|z|</th>  <th>[0.025</th>    <th>0.975]</th>  \n",
       "</tr>\n",
       "<tr>\n",
       "  <th>const</th> <td>   -0.0648</td> <td>    0.064</td> <td>   -1.011</td> <td> 0.312</td> <td>   -0.190</td> <td>    0.061</td>\n",
       "</tr>\n",
       "<tr>\n",
       "  <th>x1</th>    <td>   -0.0419</td> <td>    0.063</td> <td>   -0.669</td> <td> 0.503</td> <td>   -0.165</td> <td>    0.081</td>\n",
       "</tr>\n",
       "<tr>\n",
       "  <th>x2</th>    <td>    0.0293</td> <td>    0.064</td> <td>    0.456</td> <td> 0.648</td> <td>   -0.097</td> <td>    0.155</td>\n",
       "</tr>\n",
       "<tr>\n",
       "  <th>x3</th>    <td>    0.0556</td> <td>    0.067</td> <td>    0.831</td> <td> 0.406</td> <td>   -0.076</td> <td>    0.187</td>\n",
       "</tr>\n",
       "<tr>\n",
       "  <th>x4</th>    <td>    0.1035</td> <td>    0.064</td> <td>    1.627</td> <td> 0.104</td> <td>   -0.021</td> <td>    0.228</td>\n",
       "</tr>\n",
       "<tr>\n",
       "  <th>x5</th>    <td>    0.0435</td> <td>    0.067</td> <td>    0.654</td> <td> 0.513</td> <td>   -0.087</td> <td>    0.174</td>\n",
       "</tr>\n",
       "<tr>\n",
       "  <th>x6</th>    <td>    0.0589</td> <td>    0.062</td> <td>    0.952</td> <td> 0.341</td> <td>   -0.062</td> <td>    0.180</td>\n",
       "</tr>\n",
       "<tr>\n",
       "  <th>x7</th>    <td>   -0.1153</td> <td>    0.064</td> <td>   -1.803</td> <td> 0.071</td> <td>   -0.241</td> <td>    0.010</td>\n",
       "</tr>\n",
       "<tr>\n",
       "  <th>x8</th>    <td>    0.0645</td> <td>    0.066</td> <td>    0.979</td> <td> 0.328</td> <td>   -0.065</td> <td>    0.194</td>\n",
       "</tr>\n",
       "<tr>\n",
       "  <th>x9</th>    <td>   -0.0046</td> <td>    0.062</td> <td>   -0.074</td> <td> 0.941</td> <td>   -0.126</td> <td>    0.117</td>\n",
       "</tr>\n",
       "<tr>\n",
       "  <th>x10</th>   <td>    0.0883</td> <td>    0.062</td> <td>    1.420</td> <td> 0.156</td> <td>   -0.034</td> <td>    0.210</td>\n",
       "</tr>\n",
       "</table>"
      ],
      "text/plain": [
       "<class 'statsmodels.iolib.summary.Summary'>\n",
       "\"\"\"\n",
       "                           Logit Regression Results                           \n",
       "==============================================================================\n",
       "Dep. Variable:                      y   No. Observations:                 1000\n",
       "Model:                          Logit   Df Residuals:                      989\n",
       "Method:                           MLE   Df Model:                           10\n",
       "Date:                Tue, 21 Apr 2020   Pseudo R-squ.:                0.008539\n",
       "Time:                        15:24:12   Log-Likelihood:                -686.78\n",
       "converged:                       True   LL-Null:                       -692.70\n",
       "Covariance Type:            nonrobust   LLR p-value:                    0.2966\n",
       "==============================================================================\n",
       "                 coef    std err          z      P>|z|      [0.025      0.975]\n",
       "------------------------------------------------------------------------------\n",
       "const         -0.0648      0.064     -1.011      0.312      -0.190       0.061\n",
       "x1            -0.0419      0.063     -0.669      0.503      -0.165       0.081\n",
       "x2             0.0293      0.064      0.456      0.648      -0.097       0.155\n",
       "x3             0.0556      0.067      0.831      0.406      -0.076       0.187\n",
       "x4             0.1035      0.064      1.627      0.104      -0.021       0.228\n",
       "x5             0.0435      0.067      0.654      0.513      -0.087       0.174\n",
       "x6             0.0589      0.062      0.952      0.341      -0.062       0.180\n",
       "x7            -0.1153      0.064     -1.803      0.071      -0.241       0.010\n",
       "x8             0.0645      0.066      0.979      0.328      -0.065       0.194\n",
       "x9            -0.0046      0.062     -0.074      0.941      -0.126       0.117\n",
       "x10            0.0883      0.062      1.420      0.156      -0.034       0.210\n",
       "==============================================================================\n",
       "\"\"\""
      ]
     },
     "execution_count": 5,
     "metadata": {},
     "output_type": "execute_result"
    }
   ],
   "source": [
    "model0 = sm.Logit(y, X.T)\n",
    "model0 = model0.fit()\n",
    "model0.summary()"
   ]
  },
  {
   "cell_type": "code",
   "execution_count": 6,
   "metadata": {},
   "outputs": [
    {
     "data": {
      "text/html": [
       "<table class=\"simpletable\">\n",
       "<caption>Generalized Linear Model Regression Results</caption>\n",
       "<tr>\n",
       "  <th>Dep. Variable:</th>           <td>y</td>        <th>  No. Observations:  </th>  <td>  1000</td> \n",
       "</tr>\n",
       "<tr>\n",
       "  <th>Model:</th>                  <td>GLM</td>       <th>  Df Residuals:      </th>  <td>   989</td> \n",
       "</tr>\n",
       "<tr>\n",
       "  <th>Model Family:</th>        <td>Binomial</td>     <th>  Df Model:          </th>  <td>    10</td> \n",
       "</tr>\n",
       "<tr>\n",
       "  <th>Link Function:</th>         <td>logit</td>      <th>  Scale:             </th> <td>  1.0000</td>\n",
       "</tr>\n",
       "<tr>\n",
       "  <th>Method:</th>                <td>IRLS</td>       <th>  Log-Likelihood:    </th> <td> -686.78</td>\n",
       "</tr>\n",
       "<tr>\n",
       "  <th>Date:</th>            <td>Tue, 21 Apr 2020</td> <th>  Deviance:          </th> <td>  1373.6</td>\n",
       "</tr>\n",
       "<tr>\n",
       "  <th>Time:</th>                <td>15:24:13</td>     <th>  Pearson chi2:      </th> <td>1.00e+03</td>\n",
       "</tr>\n",
       "<tr>\n",
       "  <th>No. Iterations:</th>          <td>4</td>        <th>                     </th>     <td> </td>   \n",
       "</tr>\n",
       "<tr>\n",
       "  <th>Covariance Type:</th>     <td>nonrobust</td>    <th>                     </th>     <td> </td>   \n",
       "</tr>\n",
       "</table>\n",
       "<table class=\"simpletable\">\n",
       "<tr>\n",
       "    <td></td>       <th>coef</th>     <th>std err</th>      <th>z</th>      <th>P>|z|</th>  <th>[0.025</th>    <th>0.975]</th>  \n",
       "</tr>\n",
       "<tr>\n",
       "  <th>const</th> <td>   -0.0648</td> <td>    0.064</td> <td>   -1.011</td> <td> 0.312</td> <td>   -0.190</td> <td>    0.061</td>\n",
       "</tr>\n",
       "<tr>\n",
       "  <th>x1</th>    <td>   -0.0419</td> <td>    0.063</td> <td>   -0.669</td> <td> 0.503</td> <td>   -0.165</td> <td>    0.081</td>\n",
       "</tr>\n",
       "<tr>\n",
       "  <th>x2</th>    <td>    0.0293</td> <td>    0.064</td> <td>    0.456</td> <td> 0.648</td> <td>   -0.097</td> <td>    0.155</td>\n",
       "</tr>\n",
       "<tr>\n",
       "  <th>x3</th>    <td>    0.0556</td> <td>    0.067</td> <td>    0.831</td> <td> 0.406</td> <td>   -0.076</td> <td>    0.187</td>\n",
       "</tr>\n",
       "<tr>\n",
       "  <th>x4</th>    <td>    0.1035</td> <td>    0.064</td> <td>    1.627</td> <td> 0.104</td> <td>   -0.021</td> <td>    0.228</td>\n",
       "</tr>\n",
       "<tr>\n",
       "  <th>x5</th>    <td>    0.0435</td> <td>    0.067</td> <td>    0.654</td> <td> 0.513</td> <td>   -0.087</td> <td>    0.174</td>\n",
       "</tr>\n",
       "<tr>\n",
       "  <th>x6</th>    <td>    0.0589</td> <td>    0.062</td> <td>    0.952</td> <td> 0.341</td> <td>   -0.062</td> <td>    0.180</td>\n",
       "</tr>\n",
       "<tr>\n",
       "  <th>x7</th>    <td>   -0.1153</td> <td>    0.064</td> <td>   -1.803</td> <td> 0.071</td> <td>   -0.241</td> <td>    0.010</td>\n",
       "</tr>\n",
       "<tr>\n",
       "  <th>x8</th>    <td>    0.0645</td> <td>    0.066</td> <td>    0.979</td> <td> 0.328</td> <td>   -0.065</td> <td>    0.194</td>\n",
       "</tr>\n",
       "<tr>\n",
       "  <th>x9</th>    <td>   -0.0046</td> <td>    0.062</td> <td>   -0.074</td> <td> 0.941</td> <td>   -0.126</td> <td>    0.117</td>\n",
       "</tr>\n",
       "<tr>\n",
       "  <th>x10</th>   <td>    0.0883</td> <td>    0.062</td> <td>    1.420</td> <td> 0.156</td> <td>   -0.034</td> <td>    0.210</td>\n",
       "</tr>\n",
       "</table>"
      ],
      "text/plain": [
       "<class 'statsmodels.iolib.summary.Summary'>\n",
       "\"\"\"\n",
       "                 Generalized Linear Model Regression Results                  \n",
       "==============================================================================\n",
       "Dep. Variable:                      y   No. Observations:                 1000\n",
       "Model:                            GLM   Df Residuals:                      989\n",
       "Model Family:                Binomial   Df Model:                           10\n",
       "Link Function:                  logit   Scale:                          1.0000\n",
       "Method:                          IRLS   Log-Likelihood:                -686.78\n",
       "Date:                Tue, 21 Apr 2020   Deviance:                       1373.6\n",
       "Time:                        15:24:13   Pearson chi2:                 1.00e+03\n",
       "No. Iterations:                     4                                         \n",
       "Covariance Type:            nonrobust                                         \n",
       "==============================================================================\n",
       "                 coef    std err          z      P>|z|      [0.025      0.975]\n",
       "------------------------------------------------------------------------------\n",
       "const         -0.0648      0.064     -1.011      0.312      -0.190       0.061\n",
       "x1            -0.0419      0.063     -0.669      0.503      -0.165       0.081\n",
       "x2             0.0293      0.064      0.456      0.648      -0.097       0.155\n",
       "x3             0.0556      0.067      0.831      0.406      -0.076       0.187\n",
       "x4             0.1035      0.064      1.627      0.104      -0.021       0.228\n",
       "x5             0.0435      0.067      0.654      0.513      -0.087       0.174\n",
       "x6             0.0589      0.062      0.952      0.341      -0.062       0.180\n",
       "x7            -0.1153      0.064     -1.803      0.071      -0.241       0.010\n",
       "x8             0.0645      0.066      0.979      0.328      -0.065       0.194\n",
       "x9            -0.0046      0.062     -0.074      0.941      -0.126       0.117\n",
       "x10            0.0883      0.062      1.420      0.156      -0.034       0.210\n",
       "==============================================================================\n",
       "\"\"\""
      ]
     },
     "execution_count": 6,
     "metadata": {},
     "output_type": "execute_result"
    }
   ],
   "source": [
    "model = sm.GLM(y, X.T, family=sm.families.Binomial())\n",
    "model = model.fit()\n",
    "model.summary()"
   ]
  },
  {
   "cell_type": "code",
   "execution_count": 7,
   "metadata": {},
   "outputs": [
    {
     "name": "stdout",
     "output_type": "stream",
     "text": [
      "Отношение шансов: 1.0 \n"
     ]
    }
   ],
   "source": [
    "y_predict = model.predict(X.T)\n",
    "OR = y.mean()/y_predict.mean()\n",
    "print('Отношение шансов: {} '.format(round(OR, 2)))"
   ]
  },
  {
   "cell_type": "markdown",
   "metadata": {},
   "source": [
    "### Вопрос 2\n",
    "\n",
    "Какова точность (Accuracy) классификации модели при пороге вероятности для классификации p0 = 0.5 ?"
   ]
  },
  {
   "cell_type": "code",
   "execution_count": 8,
   "metadata": {},
   "outputs": [
    {
     "name": "stdout",
     "output_type": "stream",
     "text": [
      "Точность классификации: 0.56\n"
     ]
    }
   ],
   "source": [
    "y_predict = (model.predict(X.T) >= 0.5) * 1\n",
    "print('Точность классификации: {}'.format(round(accuracy_score(y_predict , y), 2)))"
   ]
  },
  {
   "cell_type": "markdown",
   "metadata": {},
   "source": [
    "### Вопрос 3\n",
    "\n",
    "Постройте модель логистической регрессии Y от X и свободного коэффициента для первых 100 элементов выборки. Имеет ли смысл данная модель согласно критерию Вальда? (p-value=0.05)"
   ]
  },
  {
   "cell_type": "code",
   "execution_count": 9,
   "metadata": {},
   "outputs": [
    {
     "data": {
      "text/html": [
       "<table class=\"simpletable\">\n",
       "<caption>Generalized Linear Model Regression Results</caption>\n",
       "<tr>\n",
       "  <th>Dep. Variable:</th>           <td>y</td>        <th>  No. Observations:  </th>  <td>   100</td> \n",
       "</tr>\n",
       "<tr>\n",
       "  <th>Model:</th>                  <td>GLM</td>       <th>  Df Residuals:      </th>  <td>    89</td> \n",
       "</tr>\n",
       "<tr>\n",
       "  <th>Model Family:</th>        <td>Binomial</td>     <th>  Df Model:          </th>  <td>    10</td> \n",
       "</tr>\n",
       "<tr>\n",
       "  <th>Link Function:</th>         <td>logit</td>      <th>  Scale:             </th> <td>  1.0000</td>\n",
       "</tr>\n",
       "<tr>\n",
       "  <th>Method:</th>                <td>IRLS</td>       <th>  Log-Likelihood:    </th> <td> -63.514</td>\n",
       "</tr>\n",
       "<tr>\n",
       "  <th>Date:</th>            <td>Tue, 21 Apr 2020</td> <th>  Deviance:          </th> <td>  127.03</td>\n",
       "</tr>\n",
       "<tr>\n",
       "  <th>Time:</th>                <td>15:24:14</td>     <th>  Pearson chi2:      </th>  <td>  102.</td> \n",
       "</tr>\n",
       "<tr>\n",
       "  <th>No. Iterations:</th>          <td>4</td>        <th>                     </th>     <td> </td>   \n",
       "</tr>\n",
       "<tr>\n",
       "  <th>Covariance Type:</th>     <td>nonrobust</td>    <th>                     </th>     <td> </td>   \n",
       "</tr>\n",
       "</table>\n",
       "<table class=\"simpletable\">\n",
       "<tr>\n",
       "    <td></td>       <th>coef</th>     <th>std err</th>      <th>z</th>      <th>P>|z|</th>  <th>[0.025</th>    <th>0.975]</th>  \n",
       "</tr>\n",
       "<tr>\n",
       "  <th>const</th> <td>   -0.0046</td> <td>    0.233</td> <td>   -0.020</td> <td> 0.984</td> <td>   -0.461</td> <td>    0.452</td>\n",
       "</tr>\n",
       "<tr>\n",
       "  <th>x1</th>    <td>   -0.0663</td> <td>    0.195</td> <td>   -0.340</td> <td> 0.734</td> <td>   -0.449</td> <td>    0.316</td>\n",
       "</tr>\n",
       "<tr>\n",
       "  <th>x2</th>    <td>    0.1289</td> <td>    0.235</td> <td>    0.548</td> <td> 0.584</td> <td>   -0.332</td> <td>    0.590</td>\n",
       "</tr>\n",
       "<tr>\n",
       "  <th>x3</th>    <td>    0.0925</td> <td>    0.255</td> <td>    0.362</td> <td> 0.717</td> <td>   -0.408</td> <td>    0.593</td>\n",
       "</tr>\n",
       "<tr>\n",
       "  <th>x4</th>    <td>    0.2941</td> <td>    0.216</td> <td>    1.360</td> <td> 0.174</td> <td>   -0.130</td> <td>    0.718</td>\n",
       "</tr>\n",
       "<tr>\n",
       "  <th>x5</th>    <td>    0.1594</td> <td>    0.236</td> <td>    0.676</td> <td> 0.499</td> <td>   -0.303</td> <td>    0.621</td>\n",
       "</tr>\n",
       "<tr>\n",
       "  <th>x6</th>    <td>   -0.1463</td> <td>    0.211</td> <td>   -0.693</td> <td> 0.488</td> <td>   -0.560</td> <td>    0.268</td>\n",
       "</tr>\n",
       "<tr>\n",
       "  <th>x7</th>    <td>    0.0914</td> <td>    0.215</td> <td>    0.425</td> <td> 0.671</td> <td>   -0.330</td> <td>    0.513</td>\n",
       "</tr>\n",
       "<tr>\n",
       "  <th>x8</th>    <td>    0.0279</td> <td>    0.204</td> <td>    0.136</td> <td> 0.891</td> <td>   -0.372</td> <td>    0.428</td>\n",
       "</tr>\n",
       "<tr>\n",
       "  <th>x9</th>    <td>    0.3423</td> <td>    0.226</td> <td>    1.513</td> <td> 0.130</td> <td>   -0.101</td> <td>    0.786</td>\n",
       "</tr>\n",
       "<tr>\n",
       "  <th>x10</th>   <td>    0.5378</td> <td>    0.248</td> <td>    2.171</td> <td> 0.030</td> <td>    0.052</td> <td>    1.023</td>\n",
       "</tr>\n",
       "</table>"
      ],
      "text/plain": [
       "<class 'statsmodels.iolib.summary.Summary'>\n",
       "\"\"\"\n",
       "                 Generalized Linear Model Regression Results                  \n",
       "==============================================================================\n",
       "Dep. Variable:                      y   No. Observations:                  100\n",
       "Model:                            GLM   Df Residuals:                       89\n",
       "Model Family:                Binomial   Df Model:                           10\n",
       "Link Function:                  logit   Scale:                          1.0000\n",
       "Method:                          IRLS   Log-Likelihood:                -63.514\n",
       "Date:                Tue, 21 Apr 2020   Deviance:                       127.03\n",
       "Time:                        15:24:14   Pearson chi2:                     102.\n",
       "No. Iterations:                     4                                         \n",
       "Covariance Type:            nonrobust                                         \n",
       "==============================================================================\n",
       "                 coef    std err          z      P>|z|      [0.025      0.975]\n",
       "------------------------------------------------------------------------------\n",
       "const         -0.0046      0.233     -0.020      0.984      -0.461       0.452\n",
       "x1            -0.0663      0.195     -0.340      0.734      -0.449       0.316\n",
       "x2             0.1289      0.235      0.548      0.584      -0.332       0.590\n",
       "x3             0.0925      0.255      0.362      0.717      -0.408       0.593\n",
       "x4             0.2941      0.216      1.360      0.174      -0.130       0.718\n",
       "x5             0.1594      0.236      0.676      0.499      -0.303       0.621\n",
       "x6            -0.1463      0.211     -0.693      0.488      -0.560       0.268\n",
       "x7             0.0914      0.215      0.425      0.671      -0.330       0.513\n",
       "x8             0.0279      0.204      0.136      0.891      -0.372       0.428\n",
       "x9             0.3423      0.226      1.513      0.130      -0.101       0.786\n",
       "x10            0.5378      0.248      2.171      0.030       0.052       1.023\n",
       "==============================================================================\n",
       "\"\"\""
      ]
     },
     "execution_count": 9,
     "metadata": {},
     "output_type": "execute_result"
    }
   ],
   "source": [
    "y_new = y[:100]\n",
    "X_new = X.T[:100]\n",
    "model_new = sm.GLM(y_new, X_new, family=sm.families.Binomial())\n",
    "model_new = model_new.fit()\n",
    "model_new.summary()"
   ]
  },
  {
   "cell_type": "code",
   "execution_count": 10,
   "metadata": {},
   "outputs": [
    {
     "data": {
      "text/plain": [
       "<class 'statsmodels.stats.contrast.ContrastResults'>\n",
       "<Wald test (chi2): statistic=[[9.92070797]], p-value=0.4474772257870121, df_denom=10>"
      ]
     },
     "execution_count": 10,
     "metadata": {},
     "output_type": "execute_result"
    }
   ],
   "source": [
    "model_new.wald_test('x1 = x2 = x3 = x4 = x5 = x6 = x7 = x8 = x9 = x10 = 0')"
   ]
  },
  {
   "cell_type": "markdown",
   "metadata": {},
   "source": [
    "Мы получили, что $p_{\\text{value}}=0.48 > 0.05$. Значит модель не имеет смысл согласно критерию Вальда."
   ]
  },
  {
   "cell_type": "markdown",
   "metadata": {},
   "source": [
    "### Вопрос 4\n",
    "\n",
    "Можно ли обнулить первые четыре переменные согласно критерию Вальда? (p-value=0.05)"
   ]
  },
  {
   "cell_type": "code",
   "execution_count": 12,
   "metadata": {},
   "outputs": [
    {
     "data": {
      "text/plain": [
       "<class 'statsmodels.stats.contrast.ContrastResults'>\n",
       "<Wald test (chi2): statistic=[[2.44902383]], p-value=0.6537865294514112, df_denom=4>"
      ]
     },
     "execution_count": 12,
     "metadata": {},
     "output_type": "execute_result"
    }
   ],
   "source": [
    "model_new.wald_test('x1 = x2 = x3 = x4 = 0')"
   ]
  },
  {
   "cell_type": "markdown",
   "metadata": {},
   "source": [
    "Мы получили, что $p_{\\text{value}}=0.65 > 0.05$. Значит можно обнулить первые четыре переменные согласно критерию Вальда."
   ]
  },
  {
   "cell_type": "code",
   "execution_count": null,
   "metadata": {},
   "outputs": [],
   "source": []
  }
 ],
 "metadata": {
  "kernelspec": {
   "display_name": "Python 3",
   "language": "python",
   "name": "python3"
  },
  "language_info": {
   "codemirror_mode": {
    "name": "ipython",
    "version": 3
   },
   "file_extension": ".py",
   "mimetype": "text/x-python",
   "name": "python",
   "nbconvert_exporter": "python",
   "pygments_lexer": "ipython3",
   "version": "3.7.3"
  }
 },
 "nbformat": 4,
 "nbformat_minor": 2
}
