{
 "cells": [
  {
   "cell_type": "markdown",
   "metadata": {},
   "source": [
    "# Лабораторная работа № 1 (практическая часть)"
   ]
  },
  {
   "cell_type": "code",
   "execution_count": 1,
   "metadata": {},
   "outputs": [
    {
     "name": "stdout",
     "output_type": "stream",
     "text": [
      "enter phystech e-mail\n",
      "sadiev.aa@phystech.edu\n",
      "Your tasks are 1.1, 2.4, 3.2, 4.3\n"
     ]
    }
   ],
   "source": [
    "from zlib import crc32\n",
    "import numpy as np\n",
    "\n",
    "if __name__=='__main__':\n",
    "    mail = input('enter phystech e-mail\\n') \n",
    "    to_hash =  mail.strip().split('@')[0]    \n",
    "    h = crc32(to_hash.encode('utf-8'))\n",
    "    seed = h%(2**32-1)\n",
    "    rs = np.random.RandomState(seed)\n",
    "    task1 = rs.randint(low=1, high=5)\n",
    "    task2 = rs.randint(low=1, high=5)\n",
    "    task3 = rs.randint(low=1, high=5)\n",
    "    task4 = rs.randint(low=1, high=4)\n",
    "    print ('Your tasks are 1.{}, 2.{}, 3.{}, 4.{}'.format(task1, task2, task3, task4))"
   ]
  },
  {
   "cell_type": "code",
   "execution_count": 2,
   "metadata": {},
   "outputs": [],
   "source": [
    "import numpy as np\n",
    "import matplotlib.pylab as plt\n",
    "%matplotlib inline\n",
    "import scipy.stats as st\n",
    "import seaborn as sns\n",
    "import pandas as pd"
   ]
  },
  {
   "cell_type": "code",
   "execution_count": 3,
   "metadata": {},
   "outputs": [],
   "source": [
    "from arch.bootstrap import IIDBootstrap\n",
    "\n",
    "from statsmodels.stats.descriptivestats import sign_test"
   ]
  },
  {
   "cell_type": "markdown",
   "metadata": {},
   "source": [
    "# Task 3"
   ]
  },
  {
   "cell_type": "markdown",
   "metadata": {},
   "source": [
    "Выборка представляет собой статистику бросков для различных игроков NBA. Для каждого игрока известны:\n",
    "\n",
    "1. количество успешных бросков в домашних играх (score_home)\n",
    "2. количество бросков в домашних играх (atm_home)\n",
    "3. количество успешных бросков в гостевых играх (score_away)\n",
    "4. количество бросков в гостевых играх (atm_away)\n",
    "\n",
    "Требуется определить, есть ли разница в успехе бросков у игроков в домашних и гостевых играх.\n",
    "\n",
    "У какого процента игроков разница в успехе существенна?"
   ]
  },
  {
   "cell_type": "code",
   "execution_count": 4,
   "metadata": {},
   "outputs": [
    {
     "data": {
      "text/html": [
       "<div>\n",
       "<style scoped>\n",
       "    .dataframe tbody tr th:only-of-type {\n",
       "        vertical-align: middle;\n",
       "    }\n",
       "\n",
       "    .dataframe tbody tr th {\n",
       "        vertical-align: top;\n",
       "    }\n",
       "\n",
       "    .dataframe thead th {\n",
       "        text-align: right;\n",
       "    }\n",
       "</style>\n",
       "<table border=\"1\" class=\"dataframe\">\n",
       "  <thead>\n",
       "    <tr style=\"text-align: right;\">\n",
       "      <th></th>\n",
       "      <th>Unnamed: 0</th>\n",
       "      <th>player</th>\n",
       "      <th>team</th>\n",
       "      <th>atm_away</th>\n",
       "      <th>atm_home</th>\n",
       "      <th>score_away</th>\n",
       "      <th>score_home</th>\n",
       "      <th>atm_total</th>\n",
       "      <th>score_total</th>\n",
       "    </tr>\n",
       "  </thead>\n",
       "  <tbody>\n",
       "    <tr>\n",
       "      <th>486</th>\n",
       "      <td>878</td>\n",
       "      <td>Jones</td>\n",
       "      <td>SAC</td>\n",
       "      <td>30</td>\n",
       "      <td>21</td>\n",
       "      <td>18</td>\n",
       "      <td>16</td>\n",
       "      <td>51</td>\n",
       "      <td>34</td>\n",
       "    </tr>\n",
       "    <tr>\n",
       "      <th>587</th>\n",
       "      <td>1058</td>\n",
       "      <td>McInnis</td>\n",
       "      <td>CHA</td>\n",
       "      <td>44</td>\n",
       "      <td>18</td>\n",
       "      <td>33</td>\n",
       "      <td>12</td>\n",
       "      <td>62</td>\n",
       "      <td>45</td>\n",
       "    </tr>\n",
       "    <tr>\n",
       "      <th>759</th>\n",
       "      <td>1385</td>\n",
       "      <td>Shumpert</td>\n",
       "      <td>NYK</td>\n",
       "      <td>51</td>\n",
       "      <td>58</td>\n",
       "      <td>37</td>\n",
       "      <td>50</td>\n",
       "      <td>109</td>\n",
       "      <td>87</td>\n",
       "    </tr>\n",
       "    <tr>\n",
       "      <th>121</th>\n",
       "      <td>228</td>\n",
       "      <td>Brooks</td>\n",
       "      <td>HOU</td>\n",
       "      <td>317</td>\n",
       "      <td>334</td>\n",
       "      <td>277</td>\n",
       "      <td>277</td>\n",
       "      <td>651</td>\n",
       "      <td>554</td>\n",
       "    </tr>\n",
       "    <tr>\n",
       "      <th>171</th>\n",
       "      <td>316</td>\n",
       "      <td>Cole</td>\n",
       "      <td>MIA</td>\n",
       "      <td>43</td>\n",
       "      <td>42</td>\n",
       "      <td>34</td>\n",
       "      <td>32</td>\n",
       "      <td>85</td>\n",
       "      <td>66</td>\n",
       "    </tr>\n",
       "  </tbody>\n",
       "</table>\n",
       "</div>"
      ],
      "text/plain": [
       "     Unnamed: 0    player team  atm_away  atm_home  score_away  score_home  \\\n",
       "486         878     Jones  SAC        30        21          18          16   \n",
       "587        1058   McInnis  CHA        44        18          33          12   \n",
       "759        1385  Shumpert  NYK        51        58          37          50   \n",
       "121         228    Brooks  HOU       317       334         277         277   \n",
       "171         316      Cole  MIA        43        42          34          32   \n",
       "\n",
       "     atm_total  score_total  \n",
       "486         51           34  \n",
       "587         62           45  \n",
       "759        109           87  \n",
       "121        651          554  \n",
       "171         85           66  "
      ]
     },
     "execution_count": 4,
     "metadata": {},
     "output_type": "execute_result"
    }
   ],
   "source": [
    "data = pd.read_csv('nba.csv')\n",
    "data.sample(5)"
   ]
  },
  {
   "cell_type": "markdown",
   "metadata": {},
   "source": [
    "По таким данным, пока сложно что-то сразу сказать или применить критерий корректно. Поэтому вычислим вероятности успешного броска. И по ним можно воспользоваться знакывыми критериями или даже критерий стьюдента. Поскольку в первом случае мы хотим понять есть ли разница в успехе броска."
   ]
  },
  {
   "cell_type": "code",
   "execution_count": 5,
   "metadata": {},
   "outputs": [],
   "source": [
    "ratio = {'ratio_away': data['score_away'].values / data['atm_away'].values,\n",
    "         'ratio_home': data['score_home'].values / data['atm_home'].values}\n",
    "Data = pd.DataFrame(ratio)\n",
    "X = Data.values"
   ]
  },
  {
   "cell_type": "markdown",
   "metadata": {},
   "source": [
    "Критерий знаковых рангов Уилкоксона для связанных выборок\n",
    "\n",
    "Двухвыборочный критерий знаков\n",
    "\n",
    "Критерий хи-квадрат"
   ]
  },
  {
   "cell_type": "code",
   "execution_count": 18,
   "metadata": {},
   "outputs": [
    {
     "name": "stdout",
     "output_type": "stream",
     "text": [
      "Wilcoxon: p-value = 0.091\n",
      "Sign test: p-value = 0.159\n",
      "Chi square: p-value = 1.0\n"
     ]
    }
   ],
   "source": [
    "print('Wilcoxon: p-value = {}'.format(round(st.wilcoxon(X.T[0],  X.T[1])[1], 3)))\n",
    "print('Sign test: p-value = {}'.format(round(sign_test(X.T[0] - X.T[1], mu0 = 0)[1], 3)))\n",
    "print('Chi square: p-value = {}'.format(round(st.chisquare(f_obs = X.T[0], f_exp= X.T[1])[1], 3)))"
   ]
  },
  {
   "cell_type": "markdown",
   "metadata": {},
   "source": [
    " Статистические данные гипотизе не противоречат."
   ]
  },
  {
   "cell_type": "markdown",
   "metadata": {},
   "source": [
    "Критерий стьдента (предположим, что выборка подчинена нормальному закону)"
   ]
  },
  {
   "cell_type": "code",
   "execution_count": 10,
   "metadata": {},
   "outputs": [
    {
     "data": {
      "text/plain": [
       "((0.958825945854187, 1.4541871167582485e-15),\n",
       " (0.9490501284599304, 1.8678729193821203e-17))"
      ]
     },
     "execution_count": 10,
     "metadata": {},
     "output_type": "execute_result"
    }
   ],
   "source": [
    "st.shapiro(X.T[0]), st.shapiro(X.T[1])"
   ]
  },
  {
   "cell_type": "markdown",
   "metadata": {},
   "source": [
    "То предположение грубая ошибка), поэтому не будем использовать критерий Стьюдента "
   ]
  },
  {
   "cell_type": "markdown",
   "metadata": {},
   "source": [
    "Доверительные интервалы "
   ]
  },
  {
   "cell_type": "code",
   "execution_count": 11,
   "metadata": {},
   "outputs": [],
   "source": [
    "R = X.T[0]- X.T[1]\n",
    "S = X.T[0]> X.T[1]\n",
    "D = np.append(R[R > 0.0017174] , R[ R < -0.00837534])"
   ]
  },
  {
   "cell_type": "code",
   "execution_count": 20,
   "metadata": {},
   "outputs": [
    {
     "data": {
      "image/png": "[encoded data removed]",
      "text/plain": [
       "<Figure size 864x576 with 1 Axes>"
      ]
     },
     "metadata": {
      "needs_background": "light"
     },
     "output_type": "display_data"
    }
   ],
   "source": [
    "plt.figure(figsize = (12, 8))\n",
    "plt.hist(R)\n",
    "#plt.axvline(-0.00837534, color  = 'red')\n",
    "#plt.axvline(0.0017174 , color  = 'red')\n",
    "plt.title('Гистограмма разности вероятностей удачного броска')\n",
    "plt.show()"
   ]
  },
  {
   "cell_type": "markdown",
   "metadata": {},
   "source": [
    "Честно говоря, у меня нет идей, как нормально посчитать процент играков, для которых существенно, где они играют. Тогда посмотрим на гистограмму и поставим ограничение, что для играков, чья разности вероятностей успеха по модулю больше, чем $0.1$, локация игры существенна."
   ]
  },
  {
   "cell_type": "code",
   "execution_count": 25,
   "metadata": {},
   "outputs": [
    {
     "name": "stdout",
     "output_type": "stream",
     "text": [
      "процент игроков разница в успехе существенна = 17.2%\n"
     ]
    }
   ],
   "source": [
    "D = np.append(R[R > 0.1] , R[ R < -0.1])\n",
    "print('процент игроков разница в успехе существенна = {}%'. format(round(len(D)/len(R)*100, 2)))"
   ]
  },
  {
   "cell_type": "code",
   "execution_count": null,
   "metadata": {},
   "outputs": [],
   "source": []
  }
 ],
 "metadata": {
  "kernelspec": {
   "display_name": "Python 3",
   "language": "python",
   "name": "python3"
  },
  "language_info": {
   "codemirror_mode": {
    "name": "ipython",
    "version": 3
   },
   "file_extension": ".py",
   "mimetype": "text/x-python",
   "name": "python",
   "nbconvert_exporter": "python",
   "pygments_lexer": "ipython3",
   "version": "3.7.3"
  }
 },
 "nbformat": 4,
 "nbformat_minor": 2
}
