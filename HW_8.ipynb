{
 "cells": [
  {
   "cell_type": "markdown",
   "metadata": {},
   "source": [
    "# Homework 8"
   ]
  },
  {
   "cell_type": "code",
   "execution_count": 1,
   "metadata": {},
   "outputs": [],
   "source": [
    "import numpy as np\n",
    "import scipy.stats as st\n",
    "import matplotlib.pylab as plt\n",
    "%matplotlib inline\n",
    "import pandas as pd\n",
    "from statsmodels.regression.linear_model import OLS"
   ]
  },
  {
   "cell_type": "code",
   "execution_count": 2,
   "metadata": {},
   "outputs": [],
   "source": [
    "from statsmodels.stats.diagnostic import het_breuschpagan"
   ]
  },
  {
   "cell_type": "code",
   "execution_count": 3,
   "metadata": {},
   "outputs": [
    {
     "data": {
      "text/html": [
       "<div>\n",
       "<style scoped>\n",
       "    .dataframe tbody tr th:only-of-type {\n",
       "        vertical-align: middle;\n",
       "    }\n",
       "\n",
       "    .dataframe tbody tr th {\n",
       "        vertical-align: top;\n",
       "    }\n",
       "\n",
       "    .dataframe thead th {\n",
       "        text-align: right;\n",
       "    }\n",
       "</style>\n",
       "<table border=\"1\" class=\"dataframe\">\n",
       "  <thead>\n",
       "    <tr style=\"text-align: right;\">\n",
       "      <th></th>\n",
       "      <th>0</th>\n",
       "      <th>1</th>\n",
       "      <th>2</th>\n",
       "      <th>3</th>\n",
       "      <th>4</th>\n",
       "      <th>5</th>\n",
       "      <th>6</th>\n",
       "      <th>7</th>\n",
       "      <th>8</th>\n",
       "      <th>9</th>\n",
       "      <th>10</th>\n",
       "    </tr>\n",
       "  </thead>\n",
       "  <tbody>\n",
       "    <tr>\n",
       "      <th>855</th>\n",
       "      <td>37.886100</td>\n",
       "      <td>0.351036</td>\n",
       "      <td>1.327149</td>\n",
       "      <td>1.935158</td>\n",
       "      <td>0.600909</td>\n",
       "      <td>-0.881463</td>\n",
       "      <td>0.935409</td>\n",
       "      <td>1.218600</td>\n",
       "      <td>-0.973864</td>\n",
       "      <td>0.990983</td>\n",
       "      <td>0.068175</td>\n",
       "    </tr>\n",
       "    <tr>\n",
       "      <th>470</th>\n",
       "      <td>29.816530</td>\n",
       "      <td>0.671328</td>\n",
       "      <td>0.855869</td>\n",
       "      <td>0.923049</td>\n",
       "      <td>0.799633</td>\n",
       "      <td>0.084856</td>\n",
       "      <td>-0.267303</td>\n",
       "      <td>1.120432</td>\n",
       "      <td>-1.246599</td>\n",
       "      <td>0.908897</td>\n",
       "      <td>0.319687</td>\n",
       "    </tr>\n",
       "    <tr>\n",
       "      <th>401</th>\n",
       "      <td>29.678052</td>\n",
       "      <td>-2.879242</td>\n",
       "      <td>0.017598</td>\n",
       "      <td>0.847700</td>\n",
       "      <td>0.353789</td>\n",
       "      <td>1.396391</td>\n",
       "      <td>-0.325733</td>\n",
       "      <td>-0.038427</td>\n",
       "      <td>-0.608679</td>\n",
       "      <td>-1.751924</td>\n",
       "      <td>-0.107404</td>\n",
       "    </tr>\n",
       "    <tr>\n",
       "      <th>802</th>\n",
       "      <td>37.276718</td>\n",
       "      <td>-0.421103</td>\n",
       "      <td>1.696705</td>\n",
       "      <td>1.776828</td>\n",
       "      <td>-2.752170</td>\n",
       "      <td>0.384150</td>\n",
       "      <td>-0.542236</td>\n",
       "      <td>-0.387136</td>\n",
       "      <td>0.193606</td>\n",
       "      <td>-1.438403</td>\n",
       "      <td>-2.828621</td>\n",
       "    </tr>\n",
       "    <tr>\n",
       "      <th>87</th>\n",
       "      <td>31.856526</td>\n",
       "      <td>0.179537</td>\n",
       "      <td>2.019945</td>\n",
       "      <td>0.867974</td>\n",
       "      <td>-0.567393</td>\n",
       "      <td>-0.405657</td>\n",
       "      <td>-0.185099</td>\n",
       "      <td>-0.215999</td>\n",
       "      <td>0.005006</td>\n",
       "      <td>0.064451</td>\n",
       "      <td>-2.397554</td>\n",
       "    </tr>\n",
       "  </tbody>\n",
       "</table>\n",
       "</div>"
      ],
      "text/plain": [
       "            0         1         2         3         4         5         6   \\\n",
       "855  37.886100  0.351036  1.327149  1.935158  0.600909 -0.881463  0.935409   \n",
       "470  29.816530  0.671328  0.855869  0.923049  0.799633  0.084856 -0.267303   \n",
       "401  29.678052 -2.879242  0.017598  0.847700  0.353789  1.396391 -0.325733   \n",
       "802  37.276718 -0.421103  1.696705  1.776828 -2.752170  0.384150 -0.542236   \n",
       "87   31.856526  0.179537  2.019945  0.867974 -0.567393 -0.405657 -0.185099   \n",
       "\n",
       "           7         8         9         10  \n",
       "855  1.218600 -0.973864  0.990983  0.068175  \n",
       "470  1.120432 -1.246599  0.908897  0.319687  \n",
       "401 -0.038427 -0.608679 -1.751924 -0.107404  \n",
       "802 -0.387136  0.193606 -1.438403 -2.828621  \n",
       "87  -0.215999  0.005006  0.064451 -2.397554  "
      ]
     },
     "execution_count": 3,
     "metadata": {},
     "output_type": "execute_result"
    }
   ],
   "source": [
    "data = pd.read_csv('sadiev.aa.csv', header = None)\n",
    "data.sample(5)"
   ]
  },
  {
   "cell_type": "code",
   "execution_count": 4,
   "metadata": {},
   "outputs": [
    {
     "data": {
      "text/plain": [
       "(10, 1000)"
      ]
     },
     "execution_count": 4,
     "metadata": {},
     "output_type": "execute_result"
    }
   ],
   "source": [
    "y = data.values.T[0]\n",
    "x = data.values.T[1:]\n",
    "x.shape"
   ]
  },
  {
   "cell_type": "code",
   "execution_count": 5,
   "metadata": {},
   "outputs": [
    {
     "data": {
      "image/png": "[encoded data removed]",
      "text/plain": [
       "<Figure size 432x288 with 1 Axes>"
      ]
     },
     "metadata": {
      "needs_background": "light"
     },
     "output_type": "display_data"
    }
   ],
   "source": [
    "plt.scatter(y, x[9])\n",
    "plt.show()"
   ]
  },
  {
   "cell_type": "code",
   "execution_count": 6,
   "metadata": {},
   "outputs": [
    {
     "data": {
      "image/png": "[encoded data removed]",
      "text/plain": [
       "<Figure size 432x288 with 1 Axes>"
      ]
     },
     "metadata": {
      "needs_background": "light"
     },
     "output_type": "display_data"
    }
   ],
   "source": [
    "plt.scatter(y, x[2])\n",
    "plt.show()"
   ]
  },
  {
   "cell_type": "markdown",
   "metadata": {},
   "source": [
    "### Вопрос 1\n",
    "\n",
    "Постройте линейную модель Y от X и свободного коэффициента. Проверьте, есть ли гетероскедастичность в выборке с использованием критерия Бройша-Пагана (использовать F-test, см. справку по критерию)"
   ]
  },
  {
   "cell_type": "code",
   "execution_count": 7,
   "metadata": {},
   "outputs": [
    {
     "data": {
      "text/plain": [
       "array([[ 1.        ,  1.        ,  1.        , ...,  1.        ,\n",
       "         1.        ,  1.        ],\n",
       "       [-0.30082976, -1.1980022 , -0.82144193, ..., -1.04567467,\n",
       "        -1.52893396, -0.67058389],\n",
       "       [ 0.44107651, -0.25921732,  0.51291127, ..., -0.86472014,\n",
       "         0.48337363, -0.09017985],\n",
       "       ...,\n",
       "       [ 1.25692029, -0.92061964, -0.39187904, ..., -0.32251838,\n",
       "        -0.40029116, -1.54393411],\n",
       "       [-0.5989294 , -0.87665452, -0.07818686, ...,  0.63826503,\n",
       "        -0.15202799, -1.90382584],\n",
       "       [-0.19680045,  0.36826575, -0.08440776, ..., -0.62357163,\n",
       "        -0.41453626,  0.59046914]])"
      ]
     },
     "execution_count": 7,
     "metadata": {},
     "output_type": "execute_result"
    }
   ],
   "source": [
    "a = np.ones((y.shape[0], 1))\n",
    "X = np.concatenate((a.T, x), axis=0)\n",
    "X"
   ]
  },
  {
   "cell_type": "code",
   "execution_count": 8,
   "metadata": {},
   "outputs": [
    {
     "data": {
      "text/plain": [
       "array([29.74329459,  0.88966413,  1.09680985,  1.33560133,  0.78686612,\n",
       "        1.35015011,  0.06147283,  0.25801262,  0.04519685, -0.07218902,\n",
       "        0.13607898])"
      ]
     },
     "execution_count": 8,
     "metadata": {},
     "output_type": "execute_result"
    }
   ],
   "source": [
    "model = OLS(y ,X.T).fit()\n",
    "model.params"
   ]
  },
  {
   "cell_type": "code",
   "execution_count": 9,
   "metadata": {},
   "outputs": [
    {
     "data": {
      "text/html": [
       "<table class=\"simpletable\">\n",
       "<caption>OLS Regression Results</caption>\n",
       "<tr>\n",
       "  <th>Dep. Variable:</th>            <td>y</td>        <th>  R-squared:         </th> <td>   0.184</td>\n",
       "</tr>\n",
       "<tr>\n",
       "  <th>Model:</th>                   <td>OLS</td>       <th>  Adj. R-squared:    </th> <td>   0.175</td>\n",
       "</tr>\n",
       "<tr>\n",
       "  <th>Method:</th>             <td>Least Squares</td>  <th>  F-statistic:       </th> <td>   22.25</td>\n",
       "</tr>\n",
       "<tr>\n",
       "  <th>Date:</th>             <td>Mon, 13 Apr 2020</td> <th>  Prob (F-statistic):</th> <td>7.90e-38</td>\n",
       "</tr>\n",
       "<tr>\n",
       "  <th>Time:</th>                 <td>19:58:03</td>     <th>  Log-Likelihood:    </th> <td> -3082.7</td>\n",
       "</tr>\n",
       "<tr>\n",
       "  <th>No. Observations:</th>      <td>  1000</td>      <th>  AIC:               </th> <td>   6187.</td>\n",
       "</tr>\n",
       "<tr>\n",
       "  <th>Df Residuals:</th>          <td>   989</td>      <th>  BIC:               </th> <td>   6241.</td>\n",
       "</tr>\n",
       "<tr>\n",
       "  <th>Df Model:</th>              <td>    10</td>      <th>                     </th>     <td> </td>   \n",
       "</tr>\n",
       "<tr>\n",
       "  <th>Covariance Type:</th>      <td>nonrobust</td>    <th>                     </th>     <td> </td>   \n",
       "</tr>\n",
       "</table>\n",
       "<table class=\"simpletable\">\n",
       "<tr>\n",
       "    <td></td>       <th>coef</th>     <th>std err</th>      <th>t</th>      <th>P>|t|</th>  <th>[0.025</th>    <th>0.975]</th>  \n",
       "</tr>\n",
       "<tr>\n",
       "  <th>const</th> <td>   29.7433</td> <td>    0.169</td> <td>  176.014</td> <td> 0.000</td> <td>   29.412</td> <td>   30.075</td>\n",
       "</tr>\n",
       "<tr>\n",
       "  <th>x1</th>    <td>    0.8897</td> <td>    0.165</td> <td>    5.390</td> <td> 0.000</td> <td>    0.566</td> <td>    1.214</td>\n",
       "</tr>\n",
       "<tr>\n",
       "  <th>x2</th>    <td>    1.0968</td> <td>    0.169</td> <td>    6.474</td> <td> 0.000</td> <td>    0.764</td> <td>    1.429</td>\n",
       "</tr>\n",
       "<tr>\n",
       "  <th>x3</th>    <td>    1.3356</td> <td>    0.176</td> <td>    7.577</td> <td> 0.000</td> <td>    0.990</td> <td>    1.682</td>\n",
       "</tr>\n",
       "<tr>\n",
       "  <th>x4</th>    <td>    0.7869</td> <td>    0.167</td> <td>    4.700</td> <td> 0.000</td> <td>    0.458</td> <td>    1.115</td>\n",
       "</tr>\n",
       "<tr>\n",
       "  <th>x5</th>    <td>    1.3502</td> <td>    0.175</td> <td>    7.694</td> <td> 0.000</td> <td>    1.006</td> <td>    1.695</td>\n",
       "</tr>\n",
       "<tr>\n",
       "  <th>x6</th>    <td>    0.0615</td> <td>    0.163</td> <td>    0.377</td> <td> 0.706</td> <td>   -0.259</td> <td>    0.382</td>\n",
       "</tr>\n",
       "<tr>\n",
       "  <th>x7</th>    <td>    0.2580</td> <td>    0.168</td> <td>    1.535</td> <td> 0.125</td> <td>   -0.072</td> <td>    0.588</td>\n",
       "</tr>\n",
       "<tr>\n",
       "  <th>x8</th>    <td>    0.0452</td> <td>    0.173</td> <td>    0.261</td> <td> 0.795</td> <td>   -0.295</td> <td>    0.386</td>\n",
       "</tr>\n",
       "<tr>\n",
       "  <th>x9</th>    <td>   -0.0722</td> <td>    0.163</td> <td>   -0.442</td> <td> 0.658</td> <td>   -0.393</td> <td>    0.248</td>\n",
       "</tr>\n",
       "<tr>\n",
       "  <th>x10</th>   <td>    0.1361</td> <td>    0.164</td> <td>    0.831</td> <td> 0.406</td> <td>   -0.185</td> <td>    0.457</td>\n",
       "</tr>\n",
       "</table>\n",
       "<table class=\"simpletable\">\n",
       "<tr>\n",
       "  <th>Omnibus:</th>       <td>73.545</td> <th>  Durbin-Watson:     </th> <td>   2.026</td>\n",
       "</tr>\n",
       "<tr>\n",
       "  <th>Prob(Omnibus):</th> <td> 0.000</td> <th>  Jarque-Bera (JB):  </th> <td> 311.451</td>\n",
       "</tr>\n",
       "<tr>\n",
       "  <th>Skew:</th>          <td>-0.174</td> <th>  Prob(JB):          </th> <td>2.34e-68</td>\n",
       "</tr>\n",
       "<tr>\n",
       "  <th>Kurtosis:</th>      <td> 5.712</td> <th>  Cond. No.          </th> <td>    1.21</td>\n",
       "</tr>\n",
       "</table><br/><br/>Warnings:<br/>[1] Standard Errors assume that the covariance matrix of the errors is correctly specified."
      ],
      "text/plain": [
       "<class 'statsmodels.iolib.summary.Summary'>\n",
       "\"\"\"\n",
       "                            OLS Regression Results                            \n",
       "==============================================================================\n",
       "Dep. Variable:                      y   R-squared:                       0.184\n",
       "Model:                            OLS   Adj. R-squared:                  0.175\n",
       "Method:                 Least Squares   F-statistic:                     22.25\n",
       "Date:                Mon, 13 Apr 2020   Prob (F-statistic):           7.90e-38\n",
       "Time:                        19:58:03   Log-Likelihood:                -3082.7\n",
       "No. Observations:                1000   AIC:                             6187.\n",
       "Df Residuals:                     989   BIC:                             6241.\n",
       "Df Model:                          10                                         \n",
       "Covariance Type:            nonrobust                                         \n",
       "==============================================================================\n",
       "                 coef    std err          t      P>|t|      [0.025      0.975]\n",
       "------------------------------------------------------------------------------\n",
       "const         29.7433      0.169    176.014      0.000      29.412      30.075\n",
       "x1             0.8897      0.165      5.390      0.000       0.566       1.214\n",
       "x2             1.0968      0.169      6.474      0.000       0.764       1.429\n",
       "x3             1.3356      0.176      7.577      0.000       0.990       1.682\n",
       "x4             0.7869      0.167      4.700      0.000       0.458       1.115\n",
       "x5             1.3502      0.175      7.694      0.000       1.006       1.695\n",
       "x6             0.0615      0.163      0.377      0.706      -0.259       0.382\n",
       "x7             0.2580      0.168      1.535      0.125      -0.072       0.588\n",
       "x8             0.0452      0.173      0.261      0.795      -0.295       0.386\n",
       "x9            -0.0722      0.163     -0.442      0.658      -0.393       0.248\n",
       "x10            0.1361      0.164      0.831      0.406      -0.185       0.457\n",
       "==============================================================================\n",
       "Omnibus:                       73.545   Durbin-Watson:                   2.026\n",
       "Prob(Omnibus):                  0.000   Jarque-Bera (JB):              311.451\n",
       "Skew:                          -0.174   Prob(JB):                     2.34e-68\n",
       "Kurtosis:                       5.712   Cond. No.                         1.21\n",
       "==============================================================================\n",
       "\n",
       "Warnings:\n",
       "[1] Standard Errors assume that the covariance matrix of the errors is correctly specified.\n",
       "\"\"\""
      ]
     },
     "execution_count": 9,
     "metadata": {},
     "output_type": "execute_result"
    }
   ],
   "source": [
    "model.summary()"
   ]
  },
  {
   "cell_type": "code",
   "execution_count": 38,
   "metadata": {},
   "outputs": [
    {
     "name": "stdout",
     "output_type": "stream",
     "text": [
      "Homoscedasticity\n"
     ]
    }
   ],
   "source": [
    "if het_breuschpagan(model.resid, X.T)[3] > 0.05:\n",
    "    print('Homoscedasticity')\n",
    "else:\n",
    "    print('Heteroscedasticity')"
   ]
  },
  {
   "cell_type": "code",
   "execution_count": 11,
   "metadata": {},
   "outputs": [
    {
     "data": {
      "text/plain": [
       "(181.49053896497492,\n",
       " 1.1488615723183635e-33,\n",
       " 21.929391360899547,\n",
       " 2.7976983004286945e-37)"
      ]
     },
     "execution_count": 11,
     "metadata": {},
     "output_type": "execute_result"
    }
   ],
   "source": [
    "het_breuschpagan(y, X.T)"
   ]
  },
  {
   "cell_type": "markdown",
   "metadata": {},
   "source": [
    "### Вопрос 2\n",
    "\n",
    "Оптимальное значение lambda для преобразования Бокса-Кокса на переменную Y (использовать scipy.stats)"
   ]
  },
  {
   "cell_type": "code",
   "execution_count": 12,
   "metadata": {},
   "outputs": [
    {
     "name": "stdout",
     "output_type": "stream",
     "text": [
      "optimal value = 1.1618064501051077\n"
     ]
    }
   ],
   "source": [
    "l = st.boxcox(y)[1]\n",
    "print('optimal value = {}'.format(l))"
   ]
  },
  {
   "cell_type": "markdown",
   "metadata": {},
   "source": [
    "### Вопрос 3\n",
    "\n",
    "Постройте линейную модель Y от X и свободного коэффициента для первых 100 элементов выборки. Сколько переменных являются избыточными согласно t-критерию? Поправку на множественность гипотез проигнорировать"
   ]
  },
  {
   "cell_type": "code",
   "execution_count": 13,
   "metadata": {},
   "outputs": [
    {
     "data": {
      "text/plain": [
       "((100, 11), (100,))"
      ]
     },
     "execution_count": 13,
     "metadata": {},
     "output_type": "execute_result"
    }
   ],
   "source": [
    "X_new = X.T[0 : 100]\n",
    "y_new = y[0:100]\n",
    "X_new.shape, y_new.shape"
   ]
  },
  {
   "cell_type": "code",
   "execution_count": 14,
   "metadata": {},
   "outputs": [
    {
     "data": {
      "text/plain": [
       "array([ 2.97622233e+01,  9.99990292e-01,  1.00000756e+00,  9.99994608e-01,\n",
       "        1.00001393e+00,  1.00000654e+00, -4.62287124e-06,  7.64683955e-07,\n",
       "        5.61088742e-06,  7.87451393e-06,  1.19086628e-05])"
      ]
     },
     "execution_count": 14,
     "metadata": {},
     "output_type": "execute_result"
    }
   ],
   "source": [
    "model_new = OLS(y_new ,X_new).fit()\n",
    "model_new.params"
   ]
  },
  {
   "cell_type": "code",
   "execution_count": 15,
   "metadata": {},
   "outputs": [
    {
     "data": {
      "text/html": [
       "<table class=\"simpletable\">\n",
       "<caption>OLS Regression Results</caption>\n",
       "<tr>\n",
       "  <th>Dep. Variable:</th>            <td>y</td>        <th>  R-squared:         </th> <td>   1.000</td> \n",
       "</tr>\n",
       "<tr>\n",
       "  <th>Model:</th>                   <td>OLS</td>       <th>  Adj. R-squared:    </th> <td>   1.000</td> \n",
       "</tr>\n",
       "<tr>\n",
       "  <th>Method:</th>             <td>Least Squares</td>  <th>  F-statistic:       </th> <td>5.807e+09</td>\n",
       "</tr>\n",
       "<tr>\n",
       "  <th>Date:</th>             <td>Mon, 13 Apr 2020</td> <th>  Prob (F-statistic):</th>  <td>  0.00</td>  \n",
       "</tr>\n",
       "<tr>\n",
       "  <th>Time:</th>                 <td>19:58:14</td>     <th>  Log-Likelihood:    </th> <td>  790.28</td> \n",
       "</tr>\n",
       "<tr>\n",
       "  <th>No. Observations:</th>      <td>   100</td>      <th>  AIC:               </th> <td>  -1559.</td> \n",
       "</tr>\n",
       "<tr>\n",
       "  <th>Df Residuals:</th>          <td>    89</td>      <th>  BIC:               </th> <td>  -1530.</td> \n",
       "</tr>\n",
       "<tr>\n",
       "  <th>Df Model:</th>              <td>    10</td>      <th>                     </th>     <td> </td>    \n",
       "</tr>\n",
       "<tr>\n",
       "  <th>Covariance Type:</th>      <td>nonrobust</td>    <th>                     </th>     <td> </td>    \n",
       "</tr>\n",
       "</table>\n",
       "<table class=\"simpletable\">\n",
       "<tr>\n",
       "    <td></td>       <th>coef</th>     <th>std err</th>      <th>t</th>      <th>P>|t|</th>  <th>[0.025</th>    <th>0.975]</th>  \n",
       "</tr>\n",
       "<tr>\n",
       "  <th>const</th> <td>   29.7622</td> <td> 1.04e-05</td> <td> 2.87e+06</td> <td> 0.000</td> <td>   29.762</td> <td>   29.762</td>\n",
       "</tr>\n",
       "<tr>\n",
       "  <th>x1</th>    <td>    1.0000</td> <td> 8.73e-06</td> <td> 1.15e+05</td> <td> 0.000</td> <td>    1.000</td> <td>    1.000</td>\n",
       "</tr>\n",
       "<tr>\n",
       "  <th>x2</th>    <td>    1.0000</td> <td> 1.04e-05</td> <td> 9.65e+04</td> <td> 0.000</td> <td>    1.000</td> <td>    1.000</td>\n",
       "</tr>\n",
       "<tr>\n",
       "  <th>x3</th>    <td>    1.0000</td> <td> 1.11e-05</td> <td> 8.99e+04</td> <td> 0.000</td> <td>    1.000</td> <td>    1.000</td>\n",
       "</tr>\n",
       "<tr>\n",
       "  <th>x4</th>    <td>    1.0000</td> <td> 9.74e-06</td> <td> 1.03e+05</td> <td> 0.000</td> <td>    1.000</td> <td>    1.000</td>\n",
       "</tr>\n",
       "<tr>\n",
       "  <th>x5</th>    <td>    1.0000</td> <td> 1.05e-05</td> <td> 9.57e+04</td> <td> 0.000</td> <td>    1.000</td> <td>    1.000</td>\n",
       "</tr>\n",
       "<tr>\n",
       "  <th>x6</th>    <td>-4.623e-06</td> <td> 9.47e-06</td> <td>   -0.488</td> <td> 0.627</td> <td>-2.34e-05</td> <td> 1.42e-05</td>\n",
       "</tr>\n",
       "<tr>\n",
       "  <th>x7</th>    <td> 7.647e-07</td> <td>  9.6e-06</td> <td>    0.080</td> <td> 0.937</td> <td>-1.83e-05</td> <td> 1.98e-05</td>\n",
       "</tr>\n",
       "<tr>\n",
       "  <th>x8</th>    <td> 5.611e-06</td> <td> 9.09e-06</td> <td>    0.617</td> <td> 0.539</td> <td>-1.25e-05</td> <td> 2.37e-05</td>\n",
       "</tr>\n",
       "<tr>\n",
       "  <th>x9</th>    <td> 7.875e-06</td> <td> 9.81e-06</td> <td>    0.803</td> <td> 0.424</td> <td>-1.16e-05</td> <td> 2.74e-05</td>\n",
       "</tr>\n",
       "<tr>\n",
       "  <th>x10</th>   <td> 1.191e-05</td> <td> 1.04e-05</td> <td>    1.146</td> <td> 0.255</td> <td>-8.74e-06</td> <td> 3.26e-05</td>\n",
       "</tr>\n",
       "</table>\n",
       "<table class=\"simpletable\">\n",
       "<tr>\n",
       "  <th>Omnibus:</th>       <td> 0.664</td> <th>  Durbin-Watson:     </th> <td>   2.277</td>\n",
       "</tr>\n",
       "<tr>\n",
       "  <th>Prob(Omnibus):</th> <td> 0.717</td> <th>  Jarque-Bera (JB):  </th> <td>   0.740</td>\n",
       "</tr>\n",
       "<tr>\n",
       "  <th>Skew:</th>          <td>-0.185</td> <th>  Prob(JB):          </th> <td>   0.691</td>\n",
       "</tr>\n",
       "<tr>\n",
       "  <th>Kurtosis:</th>      <td> 2.798</td> <th>  Cond. No.          </th> <td>    1.88</td>\n",
       "</tr>\n",
       "</table><br/><br/>Warnings:<br/>[1] Standard Errors assume that the covariance matrix of the errors is correctly specified."
      ],
      "text/plain": [
       "<class 'statsmodels.iolib.summary.Summary'>\n",
       "\"\"\"\n",
       "                            OLS Regression Results                            \n",
       "==============================================================================\n",
       "Dep. Variable:                      y   R-squared:                       1.000\n",
       "Model:                            OLS   Adj. R-squared:                  1.000\n",
       "Method:                 Least Squares   F-statistic:                 5.807e+09\n",
       "Date:                Mon, 13 Apr 2020   Prob (F-statistic):               0.00\n",
       "Time:                        19:58:14   Log-Likelihood:                 790.28\n",
       "No. Observations:                 100   AIC:                            -1559.\n",
       "Df Residuals:                      89   BIC:                            -1530.\n",
       "Df Model:                          10                                         \n",
       "Covariance Type:            nonrobust                                         \n",
       "==============================================================================\n",
       "                 coef    std err          t      P>|t|      [0.025      0.975]\n",
       "------------------------------------------------------------------------------\n",
       "const         29.7622   1.04e-05   2.87e+06      0.000      29.762      29.762\n",
       "x1             1.0000   8.73e-06   1.15e+05      0.000       1.000       1.000\n",
       "x2             1.0000   1.04e-05   9.65e+04      0.000       1.000       1.000\n",
       "x3             1.0000   1.11e-05   8.99e+04      0.000       1.000       1.000\n",
       "x4             1.0000   9.74e-06   1.03e+05      0.000       1.000       1.000\n",
       "x5             1.0000   1.05e-05   9.57e+04      0.000       1.000       1.000\n",
       "x6         -4.623e-06   9.47e-06     -0.488      0.627   -2.34e-05    1.42e-05\n",
       "x7          7.647e-07    9.6e-06      0.080      0.937   -1.83e-05    1.98e-05\n",
       "x8          5.611e-06   9.09e-06      0.617      0.539   -1.25e-05    2.37e-05\n",
       "x9          7.875e-06   9.81e-06      0.803      0.424   -1.16e-05    2.74e-05\n",
       "x10         1.191e-05   1.04e-05      1.146      0.255   -8.74e-06    3.26e-05\n",
       "==============================================================================\n",
       "Omnibus:                        0.664   Durbin-Watson:                   2.277\n",
       "Prob(Omnibus):                  0.717   Jarque-Bera (JB):                0.740\n",
       "Skew:                          -0.185   Prob(JB):                        0.691\n",
       "Kurtosis:                       2.798   Cond. No.                         1.88\n",
       "==============================================================================\n",
       "\n",
       "Warnings:\n",
       "[1] Standard Errors assume that the covariance matrix of the errors is correctly specified.\n",
       "\"\"\""
      ]
     },
     "execution_count": 15,
     "metadata": {},
     "output_type": "execute_result"
    }
   ],
   "source": [
    "model_new.summary()"
   ]
  },
  {
   "cell_type": "markdown",
   "metadata": {},
   "source": [
    "5 переменных являются избытычными."
   ]
  },
  {
   "cell_type": "markdown",
   "metadata": {},
   "source": [
    "### Вопрос 4\n",
    "\n",
    "Имеет ли смысл данная модель согласно F-критерию?"
   ]
  },
  {
   "cell_type": "code",
   "execution_count": 37,
   "metadata": {},
   "outputs": [
    {
     "data": {
      "text/plain": [
       "<class 'statsmodels.stats.contrast.ContrastResults'>\n",
       "<F test: F=array([[8.95870301e+11]]), p=0.0, df_denom=89, df_num=11>"
      ]
     },
     "execution_count": 37,
     "metadata": {},
     "output_type": "execute_result"
    }
   ],
   "source": [
    "model_new.f_test('const = x1 = x2 = x3 = x4 = x5 = x6 = x7 = x8 = x9 = x10 = 0')"
   ]
  },
  {
   "cell_type": "code",
   "execution_count": 18,
   "metadata": {},
   "outputs": [
    {
     "name": "stdout",
     "output_type": "stream",
     "text": [
      "имеет смысл\n"
     ]
    }
   ],
   "source": [
    "p_value = model_new.f_pvalue\n",
    "if p_value >= 0.05:\n",
    "    print('не имеет смысл')\n",
    "else: \n",
    "    print('имеет смысл')"
   ]
  },
  {
   "cell_type": "markdown",
   "metadata": {},
   "source": [
    "### Вопрос 5\n",
    "\n",
    "Можно ли обнулить первые четыре переменные согласно критерию Вальда? "
   ]
  },
  {
   "cell_type": "code",
   "execution_count": 20,
   "metadata": {},
   "outputs": [
    {
     "data": {
      "text/plain": [
       "<class 'statsmodels.stats.contrast.ContrastResults'>\n",
       "<F test: F=array([[1.19055078e+10]]), p=0.0, df_denom=89, df_num=4>"
      ]
     },
     "execution_count": 20,
     "metadata": {},
     "output_type": "execute_result"
    }
   ],
   "source": [
    "model_new.wald_test('x1 = x2 = x3 = x4 = 0')"
   ]
  },
  {
   "cell_type": "code",
   "execution_count": 36,
   "metadata": {},
   "outputs": [
    {
     "data": {
      "text/plain": [
       "'<F test: F=array([[1.19055078e+10]]), p=0.0, df_denom=89, df_num=4>'"
      ]
     },
     "execution_count": 36,
     "metadata": {},
     "output_type": "execute_result"
    }
   ],
   "source": [
    "model_new.wald_test('x1 = x2 = x3 = x4 = 0').summary()"
   ]
  },
  {
   "cell_type": "markdown",
   "metadata": {},
   "source": [
    "Как мы видем, нельзя обнулить первые четыре переменные."
   ]
  }
 ],
 "metadata": {
  "kernelspec": {
   "display_name": "Python 3",
   "language": "python",
   "name": "python3"
  },
  "language_info": {
   "codemirror_mode": {
    "name": "ipython",
    "version": 3
   },
   "file_extension": ".py",
   "mimetype": "text/x-python",
   "name": "python",
   "nbconvert_exporter": "python",
   "pygments_lexer": "ipython3",
   "version": "3.7.3"
  }
 },
 "nbformat": 4,
 "nbformat_minor": 2
}
